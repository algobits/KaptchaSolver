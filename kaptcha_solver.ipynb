{
  "cells": [
    {
      "cell_type": "markdown",
      "metadata": {
        "id": "view-in-github",
        "colab_type": "text"
      },
      "source": [
        "<a href=\"https://colab.research.google.com/github/saeedghadiri/KaptchaSolver/blob/main/kaptcha_solver.ipynb\" target=\"_parent\"><img src=\"https://colab.research.google.com/assets/colab-badge.svg\" alt=\"Open In Colab\"/></a>"
      ]
    },
    {
      "cell_type": "markdown",
      "metadata": {
        "id": "LiiH8UQGTnpo"
      },
      "source": [
        "# Import packages and set random seeds"
      ]
    },
    {
      "cell_type": "code",
      "execution_count": 1,
      "metadata": {
        "colab": {
          "base_uri": "https://localhost:8080/"
        },
        "id": "w0UAWkNATlmx",
        "outputId": "a09442eb-1842-4540-8bac-6ca1d14d8f73"
      },
      "outputs": [
        {
          "output_type": "stream",
          "name": "stdout",
          "text": [
            "Tensorflow version:  2.7.0\n"
          ]
        }
      ],
      "source": [
        "import os\n",
        "import cv2\n",
        "import numpy as np \n",
        "import pandas as pd\n",
        "import matplotlib.pyplot as plt\n",
        "import random\n",
        "from PIL import Image\n",
        "from PIL import ImageFilter\n",
        "from PIL.ImageDraw import Draw\n",
        "from PIL.ImageFont import truetype\n",
        "from pathlib import Path\n",
        "from collections import Counter\n",
        "from sklearn.model_selection import train_test_split\n",
        "\n",
        "import tensorflow as tf\n",
        "from tensorflow import keras\n",
        "from tensorflow.keras import layers\n",
        "print(\"Tensorflow version: \", tf.__version__)\n",
        "seed = 1234\n",
        "np.random.seed(seed)\n",
        "tf.random.set_seed(seed)"
      ]
    },
    {
      "cell_type": "markdown",
      "metadata": {
        "id": "bBGXUFQ0YD3b"
      },
      "source": [
        "# Set Parameters\n"
      ]
    },
    {
      "cell_type": "markdown",
      "source": [
        "## Data Parameters\n"
      ],
      "metadata": {
        "id": "s3v-qqvechbw"
      }
    },
    {
      "cell_type": "code",
      "source": [
        "IMG_FORMAT = 'jpg'\n",
        "DATA_DIR = '/content/data'\n",
        "\n",
        "# Desired image dimensions\n",
        "img_width=200\n",
        "img_height=50 \n",
        "\n",
        "# text font size\n",
        "font_size = 50\n",
        "# text font color in rgb\n",
        "font_color = '0,0,230'\n",
        "\n",
        "# pool of character to sample from\n",
        "char_pool = '0123456789'\n",
        "\n",
        "# Maximum length of any captcha in the data\n",
        "max_length=5\n",
        "\n",
        "# sample_size\n",
        "sample_size = 20000\n",
        "\n",
        "# number of added space before captcha (for some captcha's we need space before chars)\n",
        "add_space = 22"
      ],
      "metadata": {
        "id": "eQ005ifmcwHI"
      },
      "execution_count": 2,
      "outputs": []
    },
    {
      "cell_type": "markdown",
      "source": [
        "## Model Parameters"
      ],
      "metadata": {
        "id": "bqodXIBecaZZ"
      }
    },
    {
      "cell_type": "code",
      "execution_count": 3,
      "metadata": {
        "id": "I3c-c0G6U0Ib"
      },
      "outputs": [],
      "source": [
        "# test samples size\n",
        "TEST_SPLIT = 0.2\n",
        "# validation samples size\n",
        "VAL_SPLIT = 0.1\n",
        "\n",
        "# Batch size for training and validation\n",
        "batch_size = 16\n",
        "\n",
        "# Factor by which the image is going to be downsampled by the convolutional blocks\n",
        "downsample_factor=4"
      ]
    },
    {
      "cell_type": "markdown",
      "source": [
        "# Create DataSet\n",
        "we use kaptcha generator from https://github.com/saeedghadiri/KaptchaGenerator in order to create our dataset"
      ],
      "metadata": {
        "id": "oiqyxXC_dGWE"
      }
    },
    {
      "cell_type": "code",
      "source": [
        "!wget https://github.com/saeedghadiri/KaptchaGenerator/blob/master/kaptchagenerator.jar?raw=true\n",
        "!mv kaptchagenerator.jar?raw=true kaptchagenerator.jar\n",
        "!rm -r data"
      ],
      "metadata": {
        "colab": {
          "base_uri": "https://localhost:8080/"
        },
        "id": "xkEZ907zdNRU",
        "outputId": "5bf3260f-2c69-423c-e579-709b62a6f4c2"
      },
      "execution_count": 4,
      "outputs": [
        {
          "output_type": "stream",
          "name": "stdout",
          "text": [
            "--2021-12-26 06:48:12--  https://github.com/saeedghadiri/KaptchaGenerator/blob/master/kaptchagenerator.jar?raw=true\n",
            "Resolving github.com (github.com)... 140.82.114.4\n",
            "Connecting to github.com (github.com)|140.82.114.4|:443... connected.\n",
            "HTTP request sent, awaiting response... 302 Found\n",
            "Location: https://github.com/saeedghadiri/KaptchaGenerator/raw/master/kaptchagenerator.jar [following]\n",
            "--2021-12-26 06:48:13--  https://github.com/saeedghadiri/KaptchaGenerator/raw/master/kaptchagenerator.jar\n",
            "Reusing existing connection to github.com:443.\n",
            "HTTP request sent, awaiting response... 302 Found\n",
            "Location: https://raw.githubusercontent.com/saeedghadiri/KaptchaGenerator/master/kaptchagenerator.jar [following]\n",
            "--2021-12-26 06:48:13--  https://raw.githubusercontent.com/saeedghadiri/KaptchaGenerator/master/kaptchagenerator.jar\n",
            "Resolving raw.githubusercontent.com (raw.githubusercontent.com)... 185.199.108.133, 185.199.109.133, 185.199.110.133, ...\n",
            "Connecting to raw.githubusercontent.com (raw.githubusercontent.com)|185.199.108.133|:443... connected.\n",
            "HTTP request sent, awaiting response... 200 OK\n",
            "Length: 575200 (562K) [application/octet-stream]\n",
            "Saving to: ‘kaptchagenerator.jar?raw=true’\n",
            "\n",
            "kaptchagenerator.ja 100%[===================>] 561.72K  --.-KB/s    in 0.04s   \n",
            "\n",
            "2021-12-26 06:48:13 (13.6 MB/s) - ‘kaptchagenerator.jar?raw=true’ saved [575200/575200]\n",
            "\n",
            "rm: cannot remove 'data': No such file or directory\n"
          ]
        }
      ]
    },
    {
      "cell_type": "code",
      "source": [
        "import subprocess\n",
        "subprocess.call(['java', '-jar', 'kaptchagenerator.jar', 'data', str(img_width), str(img_height), str(font_size), font_color, char_pool, str(max_length), str(sample_size), str(add_space)])"
      ],
      "metadata": {
        "colab": {
          "base_uri": "https://localhost:8080/"
        },
        "id": "1V64Sh1ndm0y",
        "outputId": "9f8521cc-581c-4a67-c212-8e917c3a1973"
      },
      "execution_count": 5,
      "outputs": [
        {
          "output_type": "execute_result",
          "data": {
            "text/plain": [
              "0"
            ]
          },
          "metadata": {},
          "execution_count": 5
        }
      ]
    },
    {
      "cell_type": "markdown",
      "metadata": {
        "id": "H_Nz7WZKVLcr"
      },
      "source": [
        "# Check data\n"
      ]
    },
    {
      "cell_type": "markdown",
      "metadata": {
        "id": "YSAVsff6V3CM"
      },
      "source": [
        "Get list of all the images\n"
      ]
    },
    {
      "cell_type": "code",
      "execution_count": 6,
      "metadata": {
        "colab": {
          "base_uri": "https://localhost:8080/"
        },
        "id": "Nyvq1DvwV89r",
        "outputId": "c791bfea-1374-4323-d9c1-6b061fcf8f1a"
      },
      "outputs": [
        {
          "output_type": "stream",
          "name": "stdout",
          "text": [
            "Number of images found:  18099\n"
          ]
        }
      ],
      "source": [
        "images = list(Path(DATA_DIR).glob(\"*.\" + IMG_FORMAT))\n",
        "print(\"Number of images found: \", len(images))"
      ]
    },
    {
      "cell_type": "markdown",
      "metadata": {
        "id": "DZgkbzCCV_7b"
      },
      "source": [
        "Let's take a look at some samples."
      ]
    },
    {
      "cell_type": "code",
      "execution_count": 7,
      "metadata": {
        "colab": {
          "base_uri": "https://localhost:8080/",
          "height": 221
        },
        "id": "Q5r3wc31tvkr",
        "outputId": "8d5836a9-9d46-43dd-bd1d-708606929016"
      },
      "outputs": [
        {
          "output_type": "stream",
          "name": "stdout",
          "text": [
            "Shape of image:  (50, 200, 3)\n",
            "Shape of image:  (50, 200, 3)\n",
            "Shape of image:  (50, 200, 3)\n",
            "Shape of image:  (50, 200, 3)\n"
          ]
        },
        {
          "output_type": "display_data",
          "data": {
            "image/png": "[encoded data removed]",
            "text/plain": [
              "<Figure size 360x216 with 4 Axes>"
            ]
          },
          "metadata": {
            "needs_background": "light"
          }
        }
      ],
      "source": [
        "sample_images = images[:4]\n",
        "\n",
        "_,ax = plt.subplots(2,2, figsize=(5,3))\n",
        "for i in range(4):\n",
        "    img = cv2.imread(str(sample_images[i]))\n",
        "    print(\"Shape of image: \", img.shape)\n",
        "    ax[i//2, i%2].imshow(img)\n",
        "    ax[i//2, i%2].axis('off')\n",
        "plt.show()"
      ]
    },
    {
      "cell_type": "markdown",
      "metadata": {
        "id": "Hqp-hHIDWIwy"
      },
      "source": [
        "Now take a look at characters used in the captcha"
      ]
    },
    {
      "cell_type": "code",
      "execution_count": 8,
      "metadata": {
        "colab": {
          "base_uri": "https://localhost:8080/",
          "height": 276
        },
        "id": "vije-p1-t7MT",
        "outputId": "17b3a2b8-6450-4cab-8da9-17061b5ddb2c"
      },
      "outputs": [
        {
          "output_type": "stream",
          "name": "stdout",
          "text": [
            "Number of unqiue charcaters in the whole dataset:  10\n",
            "Maximum length of any captcha:  5\n",
            "Characters present:  ['0', '1', '2', '3', '4', '5', '6', '7', '8', '9']\n",
            "Total number of samples in the dataset:  18099\n"
          ]
        },
        {
          "output_type": "execute_result",
          "data": {
            "text/html": [
              "\n",
              "  <div id=\"df-0384c7ed-80b2-47ae-8a20-3ee009bf6650\">\n",
              "    <div class=\"colab-df-container\">\n",
              "      <div>\n",
              "<style scoped>\n",
              "    .dataframe tbody tr th:only-of-type {\n",
              "        vertical-align: middle;\n",
              "    }\n",
              "\n",
              "    .dataframe tbody tr th {\n",
              "        vertical-align: top;\n",
              "    }\n",
              "\n",
              "    .dataframe thead th {\n",
              "        text-align: right;\n",
              "    }\n",
              "</style>\n",
              "<table border=\"1\" class=\"dataframe\">\n",
              "  <thead>\n",
              "    <tr style=\"text-align: right;\">\n",
              "      <th></th>\n",
              "      <th>img_path</th>\n",
              "      <th>label</th>\n",
              "    </tr>\n",
              "  </thead>\n",
              "  <tbody>\n",
              "    <tr>\n",
              "      <th>0</th>\n",
              "      <td>/content/data/99164.jpg</td>\n",
              "      <td>99164</td>\n",
              "    </tr>\n",
              "    <tr>\n",
              "      <th>1</th>\n",
              "      <td>/content/data/34404.jpg</td>\n",
              "      <td>34404</td>\n",
              "    </tr>\n",
              "    <tr>\n",
              "      <th>2</th>\n",
              "      <td>/content/data/62135.jpg</td>\n",
              "      <td>62135</td>\n",
              "    </tr>\n",
              "    <tr>\n",
              "      <th>3</th>\n",
              "      <td>/content/data/69021.jpg</td>\n",
              "      <td>69021</td>\n",
              "    </tr>\n",
              "    <tr>\n",
              "      <th>4</th>\n",
              "      <td>/content/data/94619.jpg</td>\n",
              "      <td>94619</td>\n",
              "    </tr>\n",
              "  </tbody>\n",
              "</table>\n",
              "</div>\n",
              "      <button class=\"colab-df-convert\" onclick=\"convertToInteractive('df-0384c7ed-80b2-47ae-8a20-3ee009bf6650')\"\n",
              "              title=\"Convert this dataframe to an interactive table.\"\n",
              "              style=\"display:none;\">\n",
              "        \n",
              "  <svg xmlns=\"http://www.w3.org/2000/svg\" height=\"24px\"viewBox=\"0 0 24 24\"\n",
              "       width=\"24px\">\n",
              "    <path d=\"M0 0h24v24H0V0z\" fill=\"none\"/>\n",
              "    <path d=\"M18.56 5.44l.94 2.06.94-2.06 2.06-.94-2.06-.94-.94-2.06-.94 2.06-2.06.94zm-11 1L8.5 8.5l.94-2.06 2.06-.94-2.06-.94L8.5 2.5l-.94 2.06-2.06.94zm10 10l.94 2.06.94-2.06 2.06-.94-2.06-.94-.94-2.06-.94 2.06-2.06.94z\"/><path d=\"M17.41 7.96l-1.37-1.37c-.4-.4-.92-.59-1.43-.59-.52 0-1.04.2-1.43.59L10.3 9.45l-7.72 7.72c-.78.78-.78 2.05 0 2.83L4 21.41c.39.39.9.59 1.41.59.51 0 1.02-.2 1.41-.59l7.78-7.78 2.81-2.81c.8-.78.8-2.07 0-2.86zM5.41 20L4 18.59l7.72-7.72 1.47 1.35L5.41 20z\"/>\n",
              "  </svg>\n",
              "      </button>\n",
              "      \n",
              "  <style>\n",
              "    .colab-df-container {\n",
              "      display:flex;\n",
              "      flex-wrap:wrap;\n",
              "      gap: 12px;\n",
              "    }\n",
              "\n",
              "    .colab-df-convert {\n",
              "      background-color: #E8F0FE;\n",
              "      border: none;\n",
              "      border-radius: 50%;\n",
              "      cursor: pointer;\n",
              "      display: none;\n",
              "      fill: #1967D2;\n",
              "      height: 32px;\n",
              "      padding: 0 0 0 0;\n",
              "      width: 32px;\n",
              "    }\n",
              "\n",
              "    .colab-df-convert:hover {\n",
              "      background-color: #E2EBFA;\n",
              "      box-shadow: 0px 1px 2px rgba(60, 64, 67, 0.3), 0px 1px 3px 1px rgba(60, 64, 67, 0.15);\n",
              "      fill: #174EA6;\n",
              "    }\n",
              "\n",
              "    [theme=dark] .colab-df-convert {\n",
              "      background-color: #3B4455;\n",
              "      fill: #D2E3FC;\n",
              "    }\n",
              "\n",
              "    [theme=dark] .colab-df-convert:hover {\n",
              "      background-color: #434B5C;\n",
              "      box-shadow: 0px 1px 3px 1px rgba(0, 0, 0, 0.15);\n",
              "      filter: drop-shadow(0px 1px 2px rgba(0, 0, 0, 0.3));\n",
              "      fill: #FFFFFF;\n",
              "    }\n",
              "  </style>\n",
              "\n",
              "      <script>\n",
              "        const buttonEl =\n",
              "          document.querySelector('#df-0384c7ed-80b2-47ae-8a20-3ee009bf6650 button.colab-df-convert');\n",
              "        buttonEl.style.display =\n",
              "          google.colab.kernel.accessAllowed ? 'block' : 'none';\n",
              "\n",
              "        async function convertToInteractive(key) {\n",
              "          const element = document.querySelector('#df-0384c7ed-80b2-47ae-8a20-3ee009bf6650');\n",
              "          const dataTable =\n",
              "            await google.colab.kernel.invokeFunction('convertToInteractive',\n",
              "                                                     [key], {});\n",
              "          if (!dataTable) return;\n",
              "\n",
              "          const docLinkHtml = 'Like what you see? Visit the ' +\n",
              "            '<a target=\"_blank\" href=https://colab.research.google.com/notebooks/data_table.ipynb>data table notebook</a>'\n",
              "            + ' to learn more about interactive tables.';\n",
              "          element.innerHTML = '';\n",
              "          dataTable['output_type'] = 'display_data';\n",
              "          await google.colab.output.renderOutput(dataTable, element);\n",
              "          const docLink = document.createElement('div');\n",
              "          docLink.innerHTML = docLinkHtml;\n",
              "          element.appendChild(docLink);\n",
              "        }\n",
              "      </script>\n",
              "    </div>\n",
              "  </div>\n",
              "  "
            ],
            "text/plain": [
              "                  img_path  label\n",
              "0  /content/data/99164.jpg  99164\n",
              "1  /content/data/34404.jpg  34404\n",
              "2  /content/data/62135.jpg  62135\n",
              "3  /content/data/69021.jpg  69021\n",
              "4  /content/data/94619.jpg  94619"
            ]
          },
          "metadata": {},
          "execution_count": 8
        }
      ],
      "source": [
        "# Store all the characters in a set\n",
        "characters = set()\n",
        "\n",
        "# A list to store the length of each captcha\n",
        "captcha_length = []\n",
        "\n",
        "# Store image-label info\n",
        "dataset = []\n",
        "\n",
        "# Iterate over the dataset and store the\n",
        "# information needed\n",
        "for img_path in images:\n",
        "    # 1. Get the label associated with each image\n",
        "    label = img_path.name.split(\".\" + IMG_FORMAT)[0]\n",
        "    # 2. Store the length of this cpatcha\n",
        "    captcha_length.append(len(label))\n",
        "    # 3. Store the image-label pair info\n",
        "    dataset.append((str(img_path), label))\n",
        "    \n",
        "    # 4. Store the characters present\n",
        "    for ch in label:\n",
        "        characters.add(ch)\n",
        "\n",
        "# Sort the characters        \n",
        "characters = sorted(characters)\n",
        "\n",
        "# Convert the dataset info into a dataframe\n",
        "dataset = pd.DataFrame(dataset, columns=[\"img_path\", \"label\"], index=None)\n",
        "\n",
        "# Shuffle the dataset\n",
        "dataset = dataset.sample(frac=1.).reset_index(drop=True)\n",
        "\n",
        "\n",
        "print(\"Number of unqiue charcaters in the whole dataset: \", len(characters))\n",
        "print(\"Maximum length of any captcha: \", max(Counter(captcha_length).keys()))\n",
        "print(\"Characters present: \", characters)\n",
        "print(\"Total number of samples in the dataset: \", len(dataset))\n",
        "dataset.head()"
      ]
    },
    {
      "cell_type": "markdown",
      "metadata": {
        "id": "2fyvn7GjVf45"
      },
      "source": [
        "# Data Preparation"
      ]
    },
    {
      "cell_type": "code",
      "execution_count": 9,
      "metadata": {
        "colab": {
          "base_uri": "https://localhost:8080/"
        },
        "id": "WfCbDlVnt83T",
        "outputId": "a268c2f5-8176-4a8a-b843-d12de2ffa64c"
      },
      "outputs": [
        {
          "output_type": "stream",
          "name": "stdout",
          "text": [
            "Number of training samples:  13031\n",
            "Number of validation samples:  1448\n",
            "Number of test samples:  3620\n",
            "Number of training images:  (13031, 50, 200)\n",
            "Number of training labels:  (13031,)\n",
            "Number of validation images:  (1448, 50, 200)\n",
            "Number of validation labels:  (1448,)\n",
            "Number of test images:  (3620, 50, 200)\n",
            "Number of test labels:  (3620,)\n"
          ]
        }
      ],
      "source": [
        "\n",
        "# Split the dataset into training and validation and test sets\n",
        "train_dataset, test_data = train_test_split(dataset, test_size=TEST_SPLIT, random_state=seed)\n",
        "training_data, validation_data = train_test_split(train_dataset, test_size=VAL_SPLIT, random_state=seed)\n",
        "\n",
        "training_data = training_data.reset_index(drop=True)\n",
        "validation_data = validation_data.reset_index(drop=True)\n",
        "test_data = test_data.reset_index(drop=True)\n",
        "\n",
        "print(\"Number of training samples: \", len(training_data))\n",
        "print(\"Number of validation samples: \", len(validation_data))\n",
        "print(\"Number of test samples: \", len(test_data))\n",
        "\n",
        "\n",
        "# Map text to numeric labels \n",
        "char_to_labels = {char:idx for idx, char in enumerate(characters)}\n",
        "\n",
        "# Map numeric labels to text\n",
        "labels_to_char = {val:key for key, val in char_to_labels.items()}\n",
        "\n",
        "\n",
        "\n",
        "# Sanity check for corrupted images\n",
        "def is_valid_captcha(captcha):\n",
        "    for ch in captcha:\n",
        "        if not ch in characters:\n",
        "            return False\n",
        "    return True\n",
        "\n",
        "\n",
        "\n",
        "# Store arrays in memory as it's not a muvh big dataset\n",
        "def generate_arrays(df, resize=True, img_height=50, img_width=200):\n",
        "    \"\"\"Generates image array and labels array from a dataframe.\n",
        "    \n",
        "    Args:\n",
        "        df: dataframe from which we want to read the data\n",
        "        resize (bool)    : whether to resize images or not\n",
        "        img_weidth (int): width of the resized images\n",
        "        img_height (int): height of the resized images\n",
        "        \n",
        "    Returns:\n",
        "        images (ndarray): grayscale images\n",
        "        labels (ndarray): corresponding encoded labels\n",
        "    \"\"\"\n",
        "\n",
        "    lower = np.array([150, 0, 0])\n",
        "    upper = np.array([255, 150, 150])\n",
        "    \n",
        "    num_items = len(df)\n",
        "    images = np.zeros((num_items, img_height, img_width), dtype=np.float32)\n",
        "    labels = [0]*num_items\n",
        "    \n",
        "    for i in range(num_items):\n",
        "        img = cv2.imread(df[\"img_path\"][i])\n",
        "\n",
        "        img = cv2.inRange(img, lower, upper)\n",
        "        # img = cv2.cvtColor(img, cv2.COLOR_BGR2GRAY)\n",
        "        \n",
        "        if resize: \n",
        "            img = cv2.resize(img, (img_width, img_height))\n",
        "        \n",
        "        img = (img/255.).astype(np.float32)\n",
        "        label = df[\"label\"][i]\n",
        "        \n",
        "        # Add only if it is a valid captcha\n",
        "        if is_valid_captcha(label):\n",
        "            images[i, :, :] = img\n",
        "            labels[i] = label\n",
        "    \n",
        "    return images, np.array(labels)\n",
        "\n",
        "\n",
        "\n",
        "# Build training data\n",
        "training_data, training_labels = generate_arrays(df=training_data)\n",
        "print(\"Number of training images: \", training_data.shape)\n",
        "print(\"Number of training labels: \", training_labels.shape)\n",
        "\n",
        "\n",
        "# Build validation data\n",
        "validation_data, validation_labels = generate_arrays(df=validation_data)\n",
        "print(\"Number of validation images: \", validation_data.shape)\n",
        "print(\"Number of validation labels: \", validation_labels.shape)\n",
        "\n",
        "\n",
        "# Build validation data\n",
        "test_data, test_labels = generate_arrays(df=test_data)\n",
        "print(\"Number of test images: \", test_data.shape)\n",
        "print(\"Number of test labels: \", test_labels.shape)"
      ]
    },
    {
      "cell_type": "code",
      "execution_count": 10,
      "metadata": {
        "id": "P4oKT-jvt-gL"
      },
      "outputs": [],
      "source": [
        "class DataGenerator(keras.utils.Sequence):\n",
        "    \"\"\"Generates batches from a given dataset.\n",
        "    \n",
        "    Args:\n",
        "        data: training or validation data\n",
        "        labels: corresponding labels\n",
        "        char_map: dictionary mapping char to labels\n",
        "        batch_size: size of a single batch\n",
        "        img_width: width of the resized\n",
        "        img_height: height of the resized\n",
        "        downsample_factor: by what factor did the CNN downsample the images\n",
        "        max_length: maximum length of any captcha\n",
        "        shuffle: whether to shuffle data or not after each epoch\n",
        "    Returns:\n",
        "        batch_inputs: a dictionary containing batch inputs \n",
        "        batch_labels: a batch of corresponding labels \n",
        "    \"\"\"\n",
        "    \n",
        "    def __init__(self,\n",
        "                 data,\n",
        "                 labels,\n",
        "                 char_map,\n",
        "                 batch_size=16,\n",
        "                 img_width=200,\n",
        "                 img_height=50,\n",
        "                 downsample_factor=4,\n",
        "                 max_length=5,\n",
        "                 shuffle=True\n",
        "                ):\n",
        "        self.data = data\n",
        "        self.labels = labels\n",
        "        self.char_map = char_map\n",
        "        self.batch_size = batch_size\n",
        "        self.img_width = img_width\n",
        "        self.img_height = img_height\n",
        "        self.downsample_factor = downsample_factor\n",
        "        self.max_length = max_length\n",
        "        self.shuffle = shuffle\n",
        "        self.indices = np.arange(len(data))    \n",
        "        self.on_epoch_end()\n",
        "        \n",
        "    def __len__(self):\n",
        "        return int(np.ceil(len(self.data) / self.batch_size))\n",
        "    \n",
        "    def __getitem__(self, idx):\n",
        "        # 1. Get the next batch indices\n",
        "        curr_batch_idx = self.indices[idx*self.batch_size:(idx+1)*self.batch_size]\n",
        "        \n",
        "        # 2. This isn't necessary but it can help us save some memory\n",
        "        # as not all batches the last batch may not have elements\n",
        "        # equal to the batch_size \n",
        "        batch_len = len(curr_batch_idx)\n",
        "        \n",
        "        # 3. Instantiate batch arrays\n",
        "        batch_images = np.ones((batch_len, self.img_width, self.img_height, 1),\n",
        "                               dtype=np.float32)\n",
        "        batch_labels = np.ones((batch_len, self.max_length), dtype=np.float32)\n",
        "        input_length = np.ones((batch_len, 1), dtype=np.int64) * \\\n",
        "                                (self.img_width // self.downsample_factor - 2)\n",
        "        label_length = np.zeros((batch_len, 1), dtype=np.int64)\n",
        "        \n",
        "        \n",
        "        for j, idx in enumerate(curr_batch_idx):\n",
        "            # 1. Get the image and transpose it\n",
        "            img = self.data[idx].T\n",
        "            # 2. Add extra dimenison\n",
        "            img = np.expand_dims(img, axis=-1)\n",
        "            # 3. Get the correpsonding label\n",
        "            text = self.labels[idx]\n",
        "            # 4. Include the pair only if the captcha is valid\n",
        "            if is_valid_captcha(text):\n",
        "                label = [self.char_map[ch] for ch in text]\n",
        "                batch_images[j] = img\n",
        "                batch_labels[j] = label\n",
        "                label_length[j] = len(text)\n",
        "        \n",
        "        batch_inputs = {\n",
        "                'input_data': batch_images,\n",
        "                'input_label': batch_labels,\n",
        "                'input_length': input_length,\n",
        "                'label_length': label_length,\n",
        "                }\n",
        "        return batch_inputs, np.zeros(batch_len).astype(np.float32)\n",
        "        \n",
        "    \n",
        "    def on_epoch_end(self):\n",
        "        if self.shuffle:\n",
        "            np.random.shuffle(self.indices)"
      ]
    },
    {
      "cell_type": "code",
      "execution_count": 11,
      "metadata": {
        "id": "oUKfFR6IuAAb"
      },
      "outputs": [],
      "source": [
        "\n",
        "# Get a generator object for the training data\n",
        "train_data_generator = DataGenerator(data=training_data,\n",
        "                                     labels=training_labels,\n",
        "                                     char_map=char_to_labels,\n",
        "                                     batch_size=batch_size,\n",
        "                                     img_width=img_width,\n",
        "                                     img_height=img_height,\n",
        "                                     downsample_factor=downsample_factor,\n",
        "                                     max_length=max_length,\n",
        "                                     shuffle=True\n",
        "                                    )\n",
        "\n",
        "# Get a generator object for the validation data \n",
        "valid_data_generator = DataGenerator(data=validation_data,\n",
        "                                     labels=validation_labels,\n",
        "                                     char_map=char_to_labels,\n",
        "                                     batch_size=batch_size,\n",
        "                                     img_width=img_width,\n",
        "                                     img_height=img_height,\n",
        "                                     downsample_factor=downsample_factor,\n",
        "                                     max_length=max_length,\n",
        "                                     shuffle=False\n",
        "                                    )\n",
        "\n",
        "# Get a generator object for the validation data \n",
        "test_data_generator = DataGenerator(data=test_data,\n",
        "                                     labels=test_labels,\n",
        "                                     char_map=char_to_labels,\n",
        "                                     batch_size=batch_size,\n",
        "                                     img_width=img_width,\n",
        "                                     img_height=img_height,\n",
        "                                     downsample_factor=downsample_factor,\n",
        "                                     max_length=max_length,\n",
        "                                     shuffle=False\n",
        "                                    )"
      ]
    },
    {
      "cell_type": "markdown",
      "metadata": {
        "id": "m0ZDUQoDZbKL"
      },
      "source": [
        "# Define the Model"
      ]
    },
    {
      "cell_type": "code",
      "execution_count": 12,
      "metadata": {
        "colab": {
          "base_uri": "https://localhost:8080/"
        },
        "id": "btMzMHh-uBZj",
        "outputId": "a7df0aa8-0a16-4f09-c472-12bc760c90cb"
      },
      "outputs": [
        {
          "output_type": "stream",
          "name": "stdout",
          "text": [
            "Model: \"ocr_model_v1\"\n",
            "__________________________________________________________________________________________________\n",
            " Layer (type)                   Output Shape         Param #     Connected to                     \n",
            "==================================================================================================\n",
            " input_data (InputLayer)        [(None, 200, 50, 1)  0           []                               \n",
            "                                ]                                                                 \n",
            "                                                                                                  \n",
            " Conv1 (Conv2D)                 (None, 200, 50, 32)  320         ['input_data[0][0]']             \n",
            "                                                                                                  \n",
            " pool1 (MaxPooling2D)           (None, 100, 25, 32)  0           ['Conv1[0][0]']                  \n",
            "                                                                                                  \n",
            " Conv2 (Conv2D)                 (None, 100, 25, 64)  18496       ['pool1[0][0]']                  \n",
            "                                                                                                  \n",
            " pool2 (MaxPooling2D)           (None, 50, 12, 64)   0           ['Conv2[0][0]']                  \n",
            "                                                                                                  \n",
            " reshape (Reshape)              (None, 50, 768)      0           ['pool2[0][0]']                  \n",
            "                                                                                                  \n",
            " dense1 (Dense)                 (None, 50, 64)       49216       ['reshape[0][0]']                \n",
            "                                                                                                  \n",
            " dropout (Dropout)              (None, 50, 64)       0           ['dense1[0][0]']                 \n",
            "                                                                                                  \n",
            " bidirectional (Bidirectional)  (None, 50, 256)      197632      ['dropout[0][0]']                \n",
            "                                                                                                  \n",
            " bidirectional_1 (Bidirectional  (None, 50, 128)     164352      ['bidirectional[0][0]']          \n",
            " )                                                                                                \n",
            "                                                                                                  \n",
            " input_label (InputLayer)       [(None, 5)]          0           []                               \n",
            "                                                                                                  \n",
            " dense2 (Dense)                 (None, 50, 11)       1419        ['bidirectional_1[0][0]']        \n",
            "                                                                                                  \n",
            " input_length (InputLayer)      [(None, 1)]          0           []                               \n",
            "                                                                                                  \n",
            " label_length (InputLayer)      [(None, 1)]          0           []                               \n",
            "                                                                                                  \n",
            " ctc_loss (CTCLayer)            (None, 1)            0           ['input_label[0][0]',            \n",
            "                                                                  'dense2[0][0]',                 \n",
            "                                                                  'input_length[0][0]',           \n",
            "                                                                  'label_length[0][0]']           \n",
            "                                                                                                  \n",
            "==================================================================================================\n",
            "Total params: 431,435\n",
            "Trainable params: 431,435\n",
            "Non-trainable params: 0\n",
            "__________________________________________________________________________________________________\n"
          ]
        }
      ],
      "source": [
        "class CTCLayer(layers.Layer):\n",
        "    def __init__(self, name=None):\n",
        "        super().__init__(name=name)\n",
        "        self.loss_fn = keras.backend.ctc_batch_cost\n",
        "\n",
        "    def call(self, y_true, y_pred, input_length, label_length):\n",
        "        # Compute the training-time loss value and add it\n",
        "        # to the layer using `self.add_loss()`.\n",
        "        loss = self.loss_fn(y_true, y_pred, input_length, label_length)\n",
        "        self.add_loss(loss)\n",
        "        \n",
        "        # On test time, just return the computed loss\n",
        "        return loss\n",
        "\n",
        "\n",
        "\n",
        "def build_model():\n",
        "    # Inputs to the model\n",
        "    input_img = layers.Input(shape=(img_width, img_height, 1),\n",
        "                            name='input_data',\n",
        "                            dtype='float32')\n",
        "    labels = layers.Input(name='input_label', shape=[max_length], dtype='float32')\n",
        "    input_length = layers.Input(name='input_length', shape=[1], dtype='int64')\n",
        "    label_length = layers.Input(name='label_length', shape=[1], dtype='int64')\n",
        "    \n",
        "    # First conv block\n",
        "    x = layers.Conv2D(32,\n",
        "               (3,3),\n",
        "               activation='relu',\n",
        "               kernel_initializer='he_normal',\n",
        "               padding='same',\n",
        "               name='Conv1')(input_img)\n",
        "    x = layers.MaxPooling2D((2,2), name='pool1')(x)\n",
        "    \n",
        "    # Second conv block\n",
        "    x = layers.Conv2D(64,\n",
        "               (3,3),\n",
        "               activation='relu',\n",
        "               kernel_initializer='he_normal',\n",
        "               padding='same',\n",
        "               name='Conv2')(x)\n",
        "    x = layers.MaxPooling2D((2,2), name='pool2')(x)\n",
        "    \n",
        "    # We have used two max pool with pool size and strides of 2.\n",
        "    # Hence, downsampled feature maps are 4x smaller. The number of\n",
        "    # filters in the last layer is 64. Reshape accordingly before\n",
        "    # passing it to RNNs\n",
        "    new_shape = ((img_width // 4), (img_height // 4)*64)\n",
        "    x = layers.Reshape(target_shape=new_shape, name='reshape')(x)\n",
        "    x = layers.Dense(64, activation='relu', name='dense1')(x)\n",
        "    x = layers.Dropout(0.2)(x)\n",
        "    \n",
        "    # RNNs\n",
        "    x = layers.Bidirectional(layers.LSTM(128,\n",
        "                                         return_sequences=True,\n",
        "                                         dropout=0.2))(x)\n",
        "    x = layers.Bidirectional(layers.LSTM(64,\n",
        "                                         return_sequences=True,\n",
        "                                         dropout=0.25))(x)\n",
        "    \n",
        "    # Predictions\n",
        "    x = layers.Dense(len(characters)+1,\n",
        "              activation='softmax', \n",
        "              name='dense2',\n",
        "              kernel_initializer='he_normal')(x)\n",
        "    \n",
        "    # Calculate CTC\n",
        "    output = CTCLayer(name='ctc_loss')(labels, x, input_length, label_length)\n",
        "    \n",
        "    # Define the model\n",
        "    model = keras.models.Model(inputs=[input_img,\n",
        "                                       labels,\n",
        "                                       input_length,\n",
        "                                       label_length],\n",
        "                                outputs=output,\n",
        "                                name='ocr_model_v1')\n",
        "    \n",
        "    # Optimizer\n",
        "    sgd = keras.optimizers.SGD(learning_rate=0.002,\n",
        "                               decay=1e-6,\n",
        "                               momentum=0.9,\n",
        "                               nesterov=True,\n",
        "                               clipnorm=5)\n",
        "    \n",
        "    # Compile the model and return \n",
        "    model.compile(optimizer=sgd)\n",
        "    return model\n",
        "\n",
        "model = build_model()\n",
        "model.summary()"
      ]
    },
    {
      "cell_type": "markdown",
      "metadata": {
        "id": "mYpKIAxVZkh3"
      },
      "source": [
        "# Fit the model to dataset"
      ]
    },
    {
      "cell_type": "code",
      "execution_count": 13,
      "metadata": {
        "colab": {
          "base_uri": "https://localhost:8080/"
        },
        "id": "y3qlVeWCuC4L",
        "outputId": "feeae396-5364-49d5-e077-b063be537744"
      },
      "outputs": [
        {
          "output_type": "stream",
          "name": "stdout",
          "text": [
            "Epoch 1/200\n",
            "815/815 [==============================] - 98s 97ms/step - loss: 9.8940 - val_loss: 3.8199\n",
            "Epoch 2/200\n",
            "815/815 [==============================] - 75s 92ms/step - loss: 1.6058 - val_loss: 0.2796\n",
            "Epoch 3/200\n",
            "815/815 [==============================] - 76s 93ms/step - loss: 0.3935 - val_loss: 0.0957\n",
            "Epoch 4/200\n",
            "815/815 [==============================] - 76s 93ms/step - loss: 0.2151 - val_loss: 0.0480\n",
            "Epoch 5/200\n",
            "815/815 [==============================] - 76s 93ms/step - loss: 0.1390 - val_loss: 0.0363\n",
            "Epoch 6/200\n",
            "815/815 [==============================] - 76s 93ms/step - loss: 0.1056 - val_loss: 0.0253\n",
            "Epoch 7/200\n",
            "815/815 [==============================] - 78s 95ms/step - loss: 0.0656 - val_loss: 0.0250\n",
            "Epoch 8/200\n",
            "815/815 [==============================] - 76s 93ms/step - loss: 0.0646 - val_loss: 0.0309\n",
            "Epoch 9/200\n",
            "815/815 [==============================] - 76s 93ms/step - loss: 0.0473 - val_loss: 0.0235\n",
            "Epoch 10/200\n",
            "815/815 [==============================] - 76s 93ms/step - loss: 0.0399 - val_loss: 0.0190\n",
            "Epoch 11/200\n",
            "815/815 [==============================] - 75s 92ms/step - loss: 0.0349 - val_loss: 0.0140\n",
            "Epoch 12/200\n",
            "815/815 [==============================] - 75s 92ms/step - loss: 0.0237 - val_loss: 0.0202\n",
            "Epoch 13/200\n",
            "815/815 [==============================] - 76s 93ms/step - loss: 0.0183 - val_loss: 0.0104\n",
            "Epoch 14/200\n",
            "815/815 [==============================] - 76s 93ms/step - loss: 0.0155 - val_loss: 0.0102\n",
            "Epoch 15/200\n",
            "815/815 [==============================] - 76s 93ms/step - loss: 0.0162 - val_loss: 0.0090\n",
            "Epoch 16/200\n",
            "815/815 [==============================] - 76s 93ms/step - loss: 0.0167 - val_loss: 0.0075\n",
            "Epoch 17/200\n",
            "815/815 [==============================] - 75s 92ms/step - loss: 0.0162 - val_loss: 0.0082\n",
            "Epoch 18/200\n",
            "815/815 [==============================] - 75s 92ms/step - loss: 0.0105 - val_loss: 0.0165\n",
            "Epoch 19/200\n",
            "815/815 [==============================] - 75s 92ms/step - loss: 0.0086 - val_loss: 0.0120\n",
            "Epoch 20/200\n",
            "815/815 [==============================] - 76s 93ms/step - loss: 0.0068 - val_loss: 0.0085\n",
            "Epoch 21/200\n",
            "815/815 [==============================] - 76s 94ms/step - loss: 0.0099 - val_loss: 0.0032\n",
            "Epoch 22/200\n",
            "815/815 [==============================] - 76s 94ms/step - loss: 0.0102 - val_loss: 0.0026\n",
            "Epoch 23/200\n",
            "815/815 [==============================] - 75s 92ms/step - loss: 0.0043 - val_loss: 0.0123\n",
            "Epoch 24/200\n",
            "815/815 [==============================] - 75s 92ms/step - loss: 0.0074 - val_loss: 0.0244\n",
            "Epoch 25/200\n",
            "815/815 [==============================] - 75s 92ms/step - loss: 0.0059 - val_loss: 0.0090\n",
            "Epoch 26/200\n",
            "815/815 [==============================] - 75s 92ms/step - loss: 0.0066 - val_loss: 0.0172\n",
            "Epoch 27/200\n",
            "815/815 [==============================] - 75s 92ms/step - loss: 0.0060 - val_loss: 0.0062\n"
          ]
        }
      ],
      "source": [
        "# Add early stopping\n",
        "es = keras.callbacks.EarlyStopping(monitor='val_loss',\n",
        "                                   patience=5,\n",
        "                                   restore_best_weights=True)\n",
        "\n",
        "# Train the model\n",
        "history = model.fit(train_data_generator,\n",
        "                    validation_data=valid_data_generator,\n",
        "                    epochs=200,\n",
        "                    callbacks=[es])"
      ]
    },
    {
      "cell_type": "markdown",
      "metadata": {
        "id": "GMYyTQWnZvE-"
      },
      "source": [
        "# Save the model to use it later"
      ]
    },
    {
      "cell_type": "code",
      "execution_count": 14,
      "metadata": {
        "colab": {
          "base_uri": "https://localhost:8080/"
        },
        "id": "FUbR8VVyuEkG",
        "outputId": "b2e3f1a1-0184-4faf-bd2d-bc5f34fdd2b7"
      },
      "outputs": [
        {
          "output_type": "stream",
          "name": "stdout",
          "text": [
            "Model: \"model\"\n",
            "_________________________________________________________________\n",
            " Layer (type)                Output Shape              Param #   \n",
            "=================================================================\n",
            " input_data (InputLayer)     [(None, 200, 50, 1)]      0         \n",
            "                                                                 \n",
            " Conv1 (Conv2D)              (None, 200, 50, 32)       320       \n",
            "                                                                 \n",
            " pool1 (MaxPooling2D)        (None, 100, 25, 32)       0         \n",
            "                                                                 \n",
            " Conv2 (Conv2D)              (None, 100, 25, 64)       18496     \n",
            "                                                                 \n",
            " pool2 (MaxPooling2D)        (None, 50, 12, 64)        0         \n",
            "                                                                 \n",
            " reshape (Reshape)           (None, 50, 768)           0         \n",
            "                                                                 \n",
            " dense1 (Dense)              (None, 50, 64)            49216     \n",
            "                                                                 \n",
            " dropout (Dropout)           (None, 50, 64)            0         \n",
            "                                                                 \n",
            " bidirectional (Bidirectiona  (None, 50, 256)          197632    \n",
            " l)                                                              \n",
            "                                                                 \n",
            " bidirectional_1 (Bidirectio  (None, 50, 128)          164352    \n",
            " nal)                                                            \n",
            "                                                                 \n",
            " dense2 (Dense)              (None, 50, 11)            1419      \n",
            "                                                                 \n",
            "=================================================================\n",
            "Total params: 431,435\n",
            "Trainable params: 431,435\n",
            "Non-trainable params: 0\n",
            "_________________________________________________________________\n",
            "WARNING:tensorflow:Compiled the loaded model, but the compiled metrics have yet to be built. `model.compile_metrics` will be empty until you train or evaluate the model.\n"
          ]
        },
        {
          "output_type": "stream",
          "name": "stderr",
          "text": [
            "WARNING:absl:Found untraced functions such as lstm_cell_1_layer_call_fn, lstm_cell_1_layer_call_and_return_conditional_losses, lstm_cell_2_layer_call_fn, lstm_cell_2_layer_call_and_return_conditional_losses, lstm_cell_4_layer_call_fn while saving (showing 5 of 20). These functions will not be directly callable after loading.\n"
          ]
        },
        {
          "output_type": "stream",
          "name": "stdout",
          "text": [
            "INFO:tensorflow:Assets written to: /content/model.pkl/assets\n"
          ]
        },
        {
          "output_type": "stream",
          "name": "stderr",
          "text": [
            "INFO:tensorflow:Assets written to: /content/model.pkl/assets\n",
            "WARNING:absl:<keras.layers.recurrent.LSTMCell object at 0x7f0cd0353710> has the same name 'LSTMCell' as a built-in Keras object. Consider renaming <class 'keras.layers.recurrent.LSTMCell'> to avoid naming conflicts when loading with `tf.keras.models.load_model`. If renaming is not possible, pass the object in the `custom_objects` parameter of the load function.\n",
            "WARNING:absl:<keras.layers.recurrent.LSTMCell object at 0x7f0cde71ac90> has the same name 'LSTMCell' as a built-in Keras object. Consider renaming <class 'keras.layers.recurrent.LSTMCell'> to avoid naming conflicts when loading with `tf.keras.models.load_model`. If renaming is not possible, pass the object in the `custom_objects` parameter of the load function.\n",
            "WARNING:absl:<keras.layers.recurrent.LSTMCell object at 0x7f0cd0248a50> has the same name 'LSTMCell' as a built-in Keras object. Consider renaming <class 'keras.layers.recurrent.LSTMCell'> to avoid naming conflicts when loading with `tf.keras.models.load_model`. If renaming is not possible, pass the object in the `custom_objects` parameter of the load function.\n",
            "WARNING:absl:<keras.layers.recurrent.LSTMCell object at 0x7f0cd01f9d10> has the same name 'LSTMCell' as a built-in Keras object. Consider renaming <class 'keras.layers.recurrent.LSTMCell'> to avoid naming conflicts when loading with `tf.keras.models.load_model`. If renaming is not possible, pass the object in the `custom_objects` parameter of the load function.\n"
          ]
        }
      ],
      "source": [
        "prediction_model = keras.models.Model(model.get_layer(name='input_data').input,\n",
        "                                        model.get_layer(name='dense2').output)\n",
        "prediction_model.summary()\n",
        "prediction_model.save('/content/model.pkl')"
      ]
    },
    {
      "cell_type": "code",
      "execution_count": 15,
      "metadata": {
        "id": "z3u24RLhuHVm"
      },
      "outputs": [],
      "source": [
        "# A utility to decode the output of the network\n",
        "def decode_batch_predictions(pred):\n",
        "    pred = pred[:, :-2]\n",
        "    input_len = np.ones(pred.shape[0])*pred.shape[1]\n",
        "    \n",
        "    # Use greedy search. For complex tasks, you can use beam search\n",
        "    results = keras.backend.ctc_decode(pred, \n",
        "                                        input_length=input_len,\n",
        "                                        greedy=True)[0][0]\n",
        "    \n",
        "    # Iterate over the results and get back the text\n",
        "    output_text = []\n",
        "    for res in results.numpy():\n",
        "        outstr = ''\n",
        "        for c in res:\n",
        "            if c < len(characters) and c >=0:\n",
        "                outstr += labels_to_char[c]\n",
        "        output_text.append(outstr)\n",
        "    \n",
        "    # return final text results\n",
        "    return output_text"
      ]
    },
    {
      "cell_type": "markdown",
      "metadata": {
        "id": "6SQtsa54dxUM"
      },
      "source": [
        "Let's check results on some test samples"
      ]
    },
    {
      "cell_type": "code",
      "execution_count": 16,
      "metadata": {
        "colab": {
          "base_uri": "https://localhost:8080/"
        },
        "id": "aR519zKUuJZu",
        "outputId": "ce7d7799-7ee3-494d-a8ce-05df0f6748cc"
      },
      "outputs": [
        {
          "output_type": "stream",
          "name": "stdout",
          "text": [
            "<class 'numpy.ndarray'>\n",
            "(16, 50, 11)\n",
            "Ground truth: 98919 \t Predicted: 98919\n",
            "Ground truth: 79895 \t Predicted: 79895\n",
            "Ground truth: 75142 \t Predicted: 75142\n",
            "Ground truth: 71017 \t Predicted: 71017\n",
            "Ground truth: 95265 \t Predicted: 95265\n",
            "Ground truth: 13022 \t Predicted: 13022\n",
            "Ground truth: 53102 \t Predicted: 53102\n",
            "Ground truth: 33115 \t Predicted: 33115\n",
            "Ground truth: 57232 \t Predicted: 57232\n",
            "Ground truth: 54450 \t Predicted: 54450\n",
            "Ground truth: 66797 \t Predicted: 66797\n",
            "Ground truth: 92795 \t Predicted: 92795\n",
            "Ground truth: 87246 \t Predicted: 87246\n",
            "Ground truth: 06301 \t Predicted: 06301\n",
            "Ground truth: 80829 \t Predicted: 80829\n",
            "Ground truth: 89350 \t Predicted: 89350\n"
          ]
        }
      ],
      "source": [
        "for p, (inp_value, _) in enumerate(test_data_generator):\n",
        "    bs = inp_value['input_data'].shape[0]\n",
        "    X_data = inp_value['input_data']\n",
        "    labels = inp_value['input_label']\n",
        "    print(type(X_data))\n",
        "    preds = prediction_model.predict(X_data)\n",
        "    print(preds.shape)\n",
        "    pred_texts = decode_batch_predictions(preds)\n",
        "    \n",
        "    \n",
        "    orig_texts = []\n",
        "    for label in labels:\n",
        "        text = ''.join([labels_to_char[int(x)] for x in label])\n",
        "        orig_texts.append(text)\n",
        "        \n",
        "    for i in range(bs):\n",
        "        print(f'Ground truth: {orig_texts[i]} \\t Predicted: {pred_texts[i]}')\n",
        "    break"
      ]
    },
    {
      "cell_type": "markdown",
      "metadata": {
        "id": "2PWy9j36dr39"
      },
      "source": [
        "Find accuracy on test data"
      ]
    },
    {
      "cell_type": "code",
      "execution_count": 17,
      "metadata": {
        "colab": {
          "base_uri": "https://localhost:8080/"
        },
        "id": "FLAjYjwC-4Nm",
        "outputId": "f367056d-49a9-4bff-9e15-71302f8d0d7f"
      },
      "outputs": [
        {
          "output_type": "stream",
          "name": "stderr",
          "text": [
            "/usr/local/lib/python3.7/dist-packages/keras/engine/functional.py:559: UserWarning: Input dict contained keys ['input_label', 'input_length', 'label_length'] which did not match any model input. They will be ignored by the model.\n",
            "  inputs = self._flatten_to_reference_inputs(inputs)\n"
          ]
        },
        {
          "output_type": "stream",
          "name": "stdout",
          "text": [
            "test_acc: 0.9994475138121547\n"
          ]
        }
      ],
      "source": [
        "preds = prediction_model.predict(test_data_generator)\n",
        "pred_texts = decode_batch_predictions(preds)\n",
        "test_acc = np.sum(np.asarray(pred_texts) == test_data_generator.labels)/len(pred_texts)\n",
        "print('test_acc: {}'.format(test_acc))"
      ]
    },
    {
      "cell_type": "markdown",
      "metadata": {
        "id": "fq3SAij_uKFG"
      },
      "source": [
        "# Use the model"
      ]
    },
    {
      "cell_type": "code",
      "execution_count": 18,
      "metadata": {
        "id": "ctRRM_08uNMn"
      },
      "outputs": [],
      "source": [
        "MODEL_DIR = '/content/drive/MyDrive/colab_data/model.pkl'\n",
        "\n",
        "characters = ['0', '1', '2', '3', '4', '5', '6', '7', '8', '9']\n",
        "labels_to_char = {0: '0', 1: '1', 2: '2', 3: '3', 4: '4', 5: '5', 6: '6', 7: '7', 8: '8', 9: '9'}\n",
        "lower = np.array([150, 0, 0])\n",
        "upper = np.array([255, 150, 150])\n",
        "\n",
        "class CaptchaDeepSolver:\n",
        "    def __init__(self, model_path, img_width=200, img_height=50):\n",
        "        self.model = tf.keras.models.load_model(model_path, compile=False)\n",
        "\n",
        "        self.img_width = img_width\n",
        "        self.img_height = img_height\n",
        "\n",
        "    def solve(self, image, resize=True):\n",
        "\n",
        "        img = cv2.inRange(image, lower, upper)\n",
        "        # img = cv2.cvtColor(image, cv2.COLOR_BGR2GRAY)\n",
        "\n",
        "        if resize:\n",
        "            img = cv2.resize(img, (self.img_width, self.img_height))\n",
        "\n",
        "        img = (img / 255.).astype(np.float32)\n",
        "        img = img.T\n",
        "\n",
        "        img = np.expand_dims(img, axis=-1)\n",
        "        img = np.expand_dims(img, axis=0)\n",
        "        preds = self.model.predict(img)\n",
        "        pred_texts = self.decode_batch_predictions(preds)\n",
        "        return pred_texts\n",
        "\n",
        "    # A utility to decode the output of the network\n",
        "    @staticmethod\n",
        "    def decode_batch_predictions(prediction):\n",
        "        pred = prediction[:, :-2]\n",
        "        input_len = np.ones(pred.shape[0]) * pred.shape[1]\n",
        "\n",
        "        # Use greedy search. For complex tasks, you can use beam search\n",
        "        results = keras.backend.ctc_decode(pred,\n",
        "                                           input_length=input_len,\n",
        "                                           greedy=True)[0][0]\n",
        "\n",
        "        # Iterate over the results and get back the text\n",
        "        output_text = []\n",
        "        for res in results.numpy():\n",
        "            outstr = ''\n",
        "            for c in res:\n",
        "                if c < len(characters) and c >= 0:\n",
        "                    outstr += labels_to_char[c]\n",
        "            output_text.append(outstr)\n",
        "\n",
        "        # return final text results\n",
        "        return output_text"
      ]
    },
    {
      "cell_type": "code",
      "execution_count": 19,
      "metadata": {
        "colab": {
          "base_uri": "https://localhost:8080/"
        },
        "id": "aD5yUV9buPsG",
        "outputId": "dd9a0834-d586-4e77-86e8-92b9ed7d8d53"
      },
      "outputs": [
        {
          "output_type": "stream",
          "name": "stdout",
          "text": [
            "true: 99164 predicted: ['99164']\n",
            "true: 34404 predicted: ['34404']\n",
            "true: 62135 predicted: ['62135']\n",
            "true: 69021 predicted: ['69021']\n",
            "true: 94619 predicted: ['94619']\n",
            "true: 50217 predicted: ['50217']\n",
            "true: 25750 predicted: ['25750']\n",
            "true: 27488 predicted: ['27488']\n",
            "true: 20272 predicted: ['20272']\n",
            "true: 73751 predicted: ['73751']\n",
            "true: 71752 predicted: ['71752']\n",
            "true: 13299 predicted: ['13299']\n",
            "true: 25717 predicted: ['25717']\n",
            "true: 98472 predicted: ['98472']\n",
            "true: 42006 predicted: ['42006']\n",
            "true: 04765 predicted: ['04765']\n",
            "true: 05012 predicted: ['05012']\n",
            "true: 60374 predicted: ['60374']\n",
            "true: 95388 predicted: ['95388']\n",
            "true: 69789 predicted: ['69789']\n",
            "true: 30734 predicted: ['30734']\n",
            "true: 10974 predicted: ['10974']\n",
            "true: 90016 predicted: ['90016']\n",
            "true: 98972 predicted: ['98972']\n",
            "true: 07057 predicted: ['07057']\n",
            "true: 45881 predicted: ['45881']\n",
            "true: 98936 predicted: ['98936']\n",
            "true: 99443 predicted: ['99443']\n",
            "true: 68817 predicted: ['68817']\n",
            "true: 72262 predicted: ['72262']\n",
            "true: 93099 predicted: ['93099']\n",
            "true: 18635 predicted: ['18635']\n",
            "true: 83722 predicted: ['83722']\n",
            "true: 36581 predicted: ['36581']\n",
            "true: 91262 predicted: ['91262']\n",
            "true: 97604 predicted: ['97604']\n",
            "true: 94057 predicted: ['94057']\n",
            "true: 80117 predicted: ['80117']\n",
            "true: 77320 predicted: ['77320']\n",
            "true: 62312 predicted: ['62312']\n",
            "true: 57963 predicted: ['57963']\n",
            "true: 44792 predicted: ['44792']\n",
            "true: 19393 predicted: ['19393']\n",
            "true: 02638 predicted: ['02638']\n",
            "true: 57973 predicted: ['57973']\n",
            "true: 79520 predicted: ['79520']\n",
            "true: 49094 predicted: ['49094']\n",
            "true: 64147 predicted: ['64147']\n",
            "true: 76229 predicted: ['76229']\n",
            "true: 27525 predicted: ['27525']\n",
            "true: 38491 predicted: ['38491']\n",
            "true: 64548 predicted: ['64548']\n",
            "true: 74208 predicted: ['74208']\n",
            "true: 71562 predicted: ['71562']\n",
            "true: 67670 predicted: ['67670']\n",
            "true: 22768 predicted: ['22768']\n",
            "true: 73248 predicted: ['73248']\n",
            "true: 72040 predicted: ['72040']\n",
            "true: 13342 predicted: ['13342']\n",
            "true: 99446 predicted: ['99446']\n",
            "true: 43584 predicted: ['43584']\n",
            "true: 74353 predicted: ['74353']\n",
            "true: 13350 predicted: ['13350']\n",
            "true: 14434 predicted: ['14434']\n",
            "true: 17785 predicted: ['17785']\n",
            "true: 70576 predicted: ['70576']\n",
            "true: 29634 predicted: ['29634']\n",
            "true: 98786 predicted: ['98786']\n",
            "true: 91440 predicted: ['91440']\n",
            "true: 62482 predicted: ['62482']\n",
            "true: 87433 predicted: ['87433']\n",
            "true: 38712 predicted: ['38712']\n",
            "true: 34626 predicted: ['34626']\n",
            "true: 34950 predicted: ['34950']\n",
            "true: 64996 predicted: ['64996']\n",
            "true: 24273 predicted: ['24273']\n",
            "true: 92008 predicted: ['92008']\n",
            "true: 17969 predicted: ['17969']\n",
            "true: 99974 predicted: ['99974']\n",
            "true: 31486 predicted: ['31486']\n",
            "true: 77806 predicted: ['77806']\n",
            "true: 58544 predicted: ['58544']\n",
            "true: 19041 predicted: ['19041']\n",
            "true: 75410 predicted: ['75410']\n",
            "true: 42410 predicted: ['42410']\n",
            "true: 97342 predicted: ['97342']\n",
            "true: 76685 predicted: ['76685']\n",
            "true: 96676 predicted: ['96676']\n",
            "true: 90502 predicted: ['90502']\n",
            "true: 47988 predicted: ['47988']\n",
            "true: 68006 predicted: ['68006']\n",
            "true: 28001 predicted: ['28001']\n",
            "true: 01384 predicted: ['01384']\n",
            "true: 50058 predicted: ['50058']\n",
            "true: 15996 predicted: ['15996']\n",
            "true: 12763 predicted: ['12763']\n",
            "true: 79562 predicted: ['79562']\n",
            "true: 90817 predicted: ['90817']\n",
            "true: 44532 predicted: ['44532']\n",
            "true: 25830 predicted: ['25830']\n"
          ]
        }
      ],
      "source": [
        "# Load the model\n",
        "model = CaptchaDeepSolver('/content/model.pkl')\n",
        "\n",
        "for index, row in dataset[:100].iterrows():\n",
        "  # Load the image\n",
        "  img = cv2.imread(row['img_path'])\n",
        "\n",
        "  # Predict the text\n",
        "  pred_texts = model.solve(img)\n",
        "\n",
        "  # Print the results\n",
        "  print('true: {} predicted: {}'.format(row['label'], pred_texts))"
      ]
    }
  ],
  "metadata": {
    "accelerator": "GPU",
    "colab": {
      "name": "kaptcha solver.ipynb",
      "provenance": [],
      "toc_visible": true,
      "authorship_tag": "ABX9TyP33oxk73fYeeUh0nkYoyyA",
      "include_colab_link": true
    },
    "kernelspec": {
      "display_name": "Python 3",
      "name": "python3"
    },
    "language_info": {
      "name": "python"
    }
  },
  "nbformat": 4,
  "nbformat_minor": 0
}